{
  "nbformat": 4,
  "nbformat_minor": 0,
  "metadata": {
    "colab": {
      "provenance": [],
      "authorship_tag": "ABX9TyO74Nnf0MRtTyUCA/aSBbbD",
      "include_colab_link": true
    },
    "kernelspec": {
      "name": "python3",
      "display_name": "Python 3"
    },
    "language_info": {
      "name": "python"
    }
  },
  "cells": [
    {
      "cell_type": "markdown",
      "metadata": {
        "id": "view-in-github",
        "colab_type": "text"
      },
      "source": [
        "<a href=\"https://colab.research.google.com/github/phsphd/Stock-Prediction-Models/blob/master/spy_gabb_reversal.ipynb\" target=\"_parent\"><img src=\"https://colab.research.google.com/assets/colab-badge.svg\" alt=\"Open In Colab\"/></a>"
      ]
    },
    {
      "cell_type": "code",
      "execution_count": 2,
      "metadata": {
        "colab": {
          "base_uri": "https://localhost:8080/"
        },
        "id": "Zjc_FBwdSSUn",
        "outputId": "6c8539e5-8fc4-4588-e989-697038b49624"
      },
      "outputs": [
        {
          "output_type": "stream",
          "name": "stdout",
          "text": [
            "Collecting pandas_ta\n",
            "  Downloading pandas_ta-0.3.14b.tar.gz (115 kB)\n",
            "\u001b[2K     \u001b[90m━━━━━━━━━━━━━━━━━━━━━━━━━━━━━━━━━━━━━━━━\u001b[0m \u001b[32m115.1/115.1 kB\u001b[0m \u001b[31m2.4 MB/s\u001b[0m eta \u001b[36m0:00:00\u001b[0m\n",
            "\u001b[?25h  Preparing metadata (setup.py) ... \u001b[?25l\u001b[?25hdone\n",
            "Requirement already satisfied: tqdm in /usr/local/lib/python3.10/dist-packages (4.66.1)\n",
            "Collecting pygad\n",
            "  Downloading pygad-3.2.0-py3-none-any.whl (80 kB)\n",
            "\u001b[2K     \u001b[90m━━━━━━━━━━━━━━━━━━━━━━━━━━━━━━━━━━━━━━━━\u001b[0m \u001b[32m80.8/80.8 kB\u001b[0m \u001b[31m11.4 MB/s\u001b[0m eta \u001b[36m0:00:00\u001b[0m\n",
            "\u001b[?25hRequirement already satisfied: pandas in /usr/local/lib/python3.10/dist-packages (from pandas_ta) (1.5.3)\n",
            "Requirement already satisfied: cloudpickle in /usr/local/lib/python3.10/dist-packages (from pygad) (2.2.1)\n",
            "Requirement already satisfied: matplotlib in /usr/local/lib/python3.10/dist-packages (from pygad) (3.7.1)\n",
            "Requirement already satisfied: numpy in /usr/local/lib/python3.10/dist-packages (from pygad) (1.23.5)\n",
            "Requirement already satisfied: contourpy>=1.0.1 in /usr/local/lib/python3.10/dist-packages (from matplotlib->pygad) (1.2.0)\n",
            "Requirement already satisfied: cycler>=0.10 in /usr/local/lib/python3.10/dist-packages (from matplotlib->pygad) (0.12.1)\n",
            "Requirement already satisfied: fonttools>=4.22.0 in /usr/local/lib/python3.10/dist-packages (from matplotlib->pygad) (4.47.2)\n",
            "Requirement already satisfied: kiwisolver>=1.0.1 in /usr/local/lib/python3.10/dist-packages (from matplotlib->pygad) (1.4.5)\n",
            "Requirement already satisfied: packaging>=20.0 in /usr/local/lib/python3.10/dist-packages (from matplotlib->pygad) (23.2)\n",
            "Requirement already satisfied: pillow>=6.2.0 in /usr/local/lib/python3.10/dist-packages (from matplotlib->pygad) (9.4.0)\n",
            "Requirement already satisfied: pyparsing>=2.3.1 in /usr/local/lib/python3.10/dist-packages (from matplotlib->pygad) (3.1.1)\n",
            "Requirement already satisfied: python-dateutil>=2.7 in /usr/local/lib/python3.10/dist-packages (from matplotlib->pygad) (2.8.2)\n",
            "Requirement already satisfied: pytz>=2020.1 in /usr/local/lib/python3.10/dist-packages (from pandas->pandas_ta) (2023.3.post1)\n",
            "Requirement already satisfied: six>=1.5 in /usr/local/lib/python3.10/dist-packages (from python-dateutil>=2.7->matplotlib->pygad) (1.16.0)\n",
            "Building wheels for collected packages: pandas_ta\n",
            "  Building wheel for pandas_ta (setup.py) ... \u001b[?25l\u001b[?25hdone\n",
            "  Created wheel for pandas_ta: filename=pandas_ta-0.3.14b0-py3-none-any.whl size=218907 sha256=a8c5cf27fec446ccaf576aa498c45c0200c2604d4328619808553819c047d118\n",
            "  Stored in directory: /root/.cache/pip/wheels/69/00/ac/f7fa862c34b0e2ef320175100c233377b4c558944f12474cf0\n",
            "Successfully built pandas_ta\n",
            "Installing collected packages: pygad, pandas_ta\n",
            "Successfully installed pandas_ta-0.3.14b0 pygad-3.2.0\n"
          ]
        }
      ],
      "source": [
        "!pip install pandas_ta tqdm pandas_ta  pygad"
      ]
    },
    {
      "cell_type": "code",
      "source": [
        "import numpy as np\n",
        "import pandas as pd\n",
        "import pandas_ta as ta\n",
        "import pygad\n",
        "\n",
        "from tqdm import tqdm\n",
        "\n",
        "# Constants\n",
        "CASH = 1000\n",
        "SOLUTIONS = 30\n",
        "GENERATIONS = 50\n",
        "TRAIN_FILE = 'spy.train.csv.gz'\n",
        "TEST_FILE = 'spy.test.csv.gz'\n",
        "from google.colab import files\n",
        "#uploaded = files.upload()\n",
        "from google.colab import drive\n",
        "#drive.mount('/content/drive')"
      ],
      "metadata": {
        "id": "ET6eCe4ZSvXj"
      },
      "execution_count": 3,
      "outputs": []
    },
    {
      "cell_type": "code",
      "source": [
        "# Configuration\n",
        "np.set_printoptions(suppress=True)\n",
        "pd.options.mode.chained_assignment = None"
      ],
      "metadata": {
        "id": "zyHscDsWUJKj"
      },
      "execution_count": 4,
      "outputs": []
    },
    {
      "cell_type": "code",
      "source": [
        "\n",
        "# Loading data, and split in train and test datasets\n",
        "def get_data():\n",
        "\n",
        "    train = pd.read_csv(TRAIN_FILE, compression='gzip')\n",
        "    train['date'] = pd.to_datetime(train['date'])\n",
        "    train = train.dropna()\n",
        "\n",
        "    test = pd.read_csv(TEST_FILE, compression='gzip')\n",
        "    test['date'] = pd.to_datetime(test['date'])\n",
        "    test = test.dropna()\n",
        "\n",
        "    return train, test"
      ],
      "metadata": {
        "id": "5c0RW6jwUNyc"
      },
      "execution_count": 5,
      "outputs": []
    },
    {
      "cell_type": "code",
      "source": [
        "\n",
        "# Define fitness function to be used by the PyGAD instance\n",
        "def fitness_func(self, solution, sol_idx):\n",
        "\n",
        "    # Get Reward from train data\n",
        "    reward, _, _, _ = get_result(train, solution[0], solution[1], solution[2], solution[3])\n",
        "\n",
        "    # Return the solution reward\n",
        "    return reward"
      ],
      "metadata": {
        "id": "NSkVbcklUQyT"
      },
      "execution_count": 6,
      "outputs": []
    },
    {
      "cell_type": "code",
      "source": [
        "# Define a reward function\n",
        "def get_result(df, buy_length, buy_std, sell_length, sell_std, is_test=False):\n",
        "\n",
        "    # Round to 2 digit to avoid the Bollinger bands function to generate weird field names\n",
        "    buy_std = round(buy_std, 2)\n",
        "    sell_std = round(sell_std, 2)\n",
        "\n",
        "    # Generate suffixes for Bollinger bands fields\n",
        "    buy_suffix = f'{int(buy_length)}_{buy_std}'\n",
        "    sell_suffix = f'{int(sell_length)}_{sell_std}'\n",
        "\n",
        "    # Generate a copy to avoid changing the original data\n",
        "    df = df.copy().reset_index(drop=True)\n",
        "\n",
        "    # Calculate Bollinger bands based on parameters\n",
        "    if not f'BBU_{buy_suffix}' in df.columns:\n",
        "        df.ta.bbands(close=df['close'], length=buy_length, std=buy_std, append=True)\n",
        "    if not f'BBU_{sell_suffix}' in df.columns:\n",
        "        df.ta.bbands(close=df['close'], length=sell_length, std=sell_std, append=True)\n",
        "    df = df.dropna()\n",
        "\n",
        "    # Buy Signal\n",
        "    df['signal'] = np.where(df['close'] < df[f'BBL_{buy_suffix}'], 1, 0)\n",
        "\n",
        "    # Sell Signal\n",
        "    df['signal'] = np.where(df['close'] > df[f'BBU_{sell_suffix}'], -1, df['signal'])\n",
        "\n",
        "    # Remove all rows without operations, rows with the same consecutive operation, first row selling, and last row buying\n",
        "    result = df[df['signal'] != 0]\n",
        "    result = result[result['signal'] != result['signal'].shift()]\n",
        "    if (len(result) > 0) and (result.iat[0, -1] == -1): result = result.iloc[1:]\n",
        "    if (len(result) > 0) and (result.iat[-1, -1] == 1): result = result.iloc[:-1]\n",
        "\n",
        "    # Calculate the reward & result / operation\n",
        "    result['reward'] = np.where(result['signal'] == -1, (result['close'] - result['close'].shift()) * (CASH // result['close'].shift()), 0)\n",
        "    result['wins'] = np.where(result['reward'] > 0, 1, 0)\n",
        "    result['losses'] = np.where(result['reward'] < 0, 1, 0)\n",
        "\n",
        "    # Generate window and filter windows without operations\n",
        "    result_window = result.set_index('date').resample('3M').agg(\n",
        "        {'close':'last','reward':'sum','wins':'sum','losses':'sum'}).reset_index()\n",
        "\n",
        "    min_operations = 252 # 1 Year\n",
        "    result_window = result_window[(result_window['wins'] + result_window['losses']) != 0]\n",
        "\n",
        "    # Generate the result\n",
        "    wins = result_window['wins'].mean() if len(result_window) > 0 else 0\n",
        "    losses = result_window['losses'].mean() if len(result_window) > 0 else 0\n",
        "    reward = result_window['reward'].mean() if (min_operations < (wins + losses)) or is_test else -min_operations + (wins + losses)\n",
        "    pnl = result_window['reward'].sum()\n",
        "\n",
        "    return reward, wins, losses, pnl"
      ],
      "metadata": {
        "id": "qMZhsfwDUUoI"
      },
      "execution_count": 7,
      "outputs": []
    },
    {
      "cell_type": "code",
      "source": [
        "# Get Train and Test data\n",
        "train, test = get_data()\n",
        "\n",
        "# Process data\n",
        "print(\"\".center(60, \"*\"))\n",
        "print(f' PROCESSING DATA '.center(60, '*'))\n",
        "print(\"\".center(60, \"*\"))\n",
        "\n",
        "with tqdm(total=GENERATIONS) as pbar:\n",
        "\n",
        "    # Create Genetic Algorithm\n",
        "    ga_instance = pygad.GA(num_generations=GENERATIONS,\n",
        "                           num_parents_mating=5,\n",
        "                           fitness_func=fitness_func,\n",
        "                           sol_per_pop=SOLUTIONS,\n",
        "                           num_genes=4,\n",
        "                           gene_space=[\n",
        "                            {'low': 1, 'high': 200, 'step': 1},\n",
        "                            {'low': 0.1, 'high': 3, 'step': 0.01},\n",
        "                            {'low': 1, 'high': 200, 'step': 1},\n",
        "                            {'low': 0.1, 'high': 3, 'step': 0.01}],\n",
        "                           parent_selection_type=\"sss\",\n",
        "                           crossover_type=\"single_point\",\n",
        "                           mutation_type=\"random\",\n",
        "                           mutation_num_genes=1,\n",
        "                           keep_parents=-1,\n",
        "                           random_seed=42,\n",
        "                           on_generation=lambda _: pbar.update(1),\n",
        "                           )\n",
        "\n",
        "    # Run the Genetic Algorithm\n",
        "    ga_instance.run()"
      ],
      "metadata": {
        "colab": {
          "base_uri": "https://localhost:8080/"
        },
        "id": "2jfnTYrZUXlC",
        "outputId": "69fa9655-aa48-44c2-b190-8fec41c5af36"
      },
      "execution_count": 8,
      "outputs": [
        {
          "output_type": "stream",
          "name": "stdout",
          "text": [
            "************************************************************\n",
            "********************* PROCESSING DATA **********************\n",
            "************************************************************\n"
          ]
        },
        {
          "output_type": "stream",
          "name": "stderr",
          "text": [
            "100%|██████████| 50/50 [03:37<00:00,  4.34s/it]\n"
          ]
        }
      ]
    },
    {
      "cell_type": "code",
      "source": [
        "# Show details of the best solution.\n",
        "solution, solution_fitness, _ = ga_instance.best_solution()\n",
        "\n",
        "print(f' Best Solution Parameters '.center(60, '*'))\n",
        "print(f'Buy Length    : {solution[0]:.0f}')\n",
        "print(f'Buy Std       : {solution[1]:.2f}')\n",
        "print(f'Sell Length   : {solution[2]:.0f}')\n",
        "print(f'Sell Std      : {solution[3]:.2f}')\n",
        "\n",
        "# Get result from train data\n",
        "reward, wins, losses, pnl = get_result(train, solution[0], solution[1], solution[2], solution[3])\n",
        "\n",
        "# Show the train result\n",
        "print(f' Result (TRAIN) '.center(60, '*'))\n",
        "print(f'* Reward                   : {reward:.2f}')\n",
        "print(f'* Profit / Loss (B&H)      : {(train[\"close\"].iloc[-1] - train[\"close\"].iloc[0]) * (CASH // train[\"close\"].iloc[0]):.2f}')\n",
        "print(f'* Profit / Loss (Strategy) : {pnl:.2f}')\n",
        "print(f'* Wins / Losses            : {wins:.2f} / {losses:.2f}')\n",
        "print(f'* Win Rate                 : {(100 * (wins/(wins + losses)) if wins + losses > 0 else 0):.2f}%')\n",
        "\n",
        "# Get result from test data\n",
        "reward, wins, losses, pnl = get_result(test, solution[0], solution[1], solution[2], solution[3], True)\n",
        "\n",
        "# Show the test result\n",
        "print(f' Result (TEST) '.center(60, '*'))\n",
        "print(f'* Reward                   : {reward:.2f}')\n",
        "print(f'* Profit / Loss (B&H)      : {(test[\"close\"].iloc[-1] - test[\"close\"].iloc[0]) * (CASH // test[\"close\"].iloc[0]):.2f}')\n",
        "print(f'* Profit / Loss (Strategy) : {pnl:.2f}')\n",
        "print(f'* Wins / Losses            : {wins:.2f} / {losses:.2f}')\n",
        "print(f'* Win Rate                 : {(100 * (wins/(wins + losses)) if wins + losses > 0 else 0):.2f}%')\n",
        "\n"
      ],
      "metadata": {
        "id": "VnavkOsNUbgL",
        "colab": {
          "base_uri": "https://localhost:8080/"
        },
        "outputId": "577c7131-51e8-4167-b2dd-23436e03e3c7"
      },
      "execution_count": 9,
      "outputs": [
        {
          "output_type": "stream",
          "name": "stdout",
          "text": [
            "***************** Best Solution Parameters *****************\n",
            "Buy Length    : 3\n",
            "Buy Std       : 0.17\n",
            "Sell Length   : 3\n",
            "Sell Std      : 1.11\n",
            "********************** Result (TRAIN) **********************\n",
            "* Reward                   : 68.91\n",
            "* Profit / Loss (B&H)      : 2040.01\n",
            "* Profit / Loss (Strategy) : 3790.27\n",
            "* Wins / Losses            : 483.13 / 236.27\n",
            "* Win Rate                 : 67.16%\n",
            "********************** Result (TEST) ***********************\n",
            "* Reward                   : 21.65\n",
            "* Profit / Loss (B&H)      : 56.70\n",
            "* Profit / Loss (Strategy) : 216.48\n",
            "* Wins / Losses            : 379.80 / 184.60\n",
            "* Win Rate                 : 67.29%\n"
          ]
        }
      ]
    }
  ]
}